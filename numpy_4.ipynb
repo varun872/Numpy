{
 "cells": [
  {
   "cell_type": "markdown",
   "id": "669e5ec9",
   "metadata": {},
   "source": [
    "## Numpy arrays and its usefullness in Mathematics"
   ]
  },
  {
   "cell_type": "markdown",
   "id": "732cb003",
   "metadata": {},
   "source": [
    "### All these mathematical operations wouldn't work how they should on lists"
   ]
  },
  {
   "cell_type": "code",
   "execution_count": 1,
   "id": "deb5734d",
   "metadata": {},
   "outputs": [],
   "source": [
    "import numpy as np"
   ]
  },
  {
   "cell_type": "code",
   "execution_count": 2,
   "id": "bdb5bc7a",
   "metadata": {},
   "outputs": [],
   "source": [
    "a=np.array([1,2,3,4])"
   ]
  },
  {
   "cell_type": "code",
   "execution_count": 3,
   "id": "f98ddfae",
   "metadata": {},
   "outputs": [
    {
     "data": {
      "text/plain": [
       "array([3, 4, 5, 6])"
      ]
     },
     "execution_count": 3,
     "metadata": {},
     "output_type": "execute_result"
    }
   ],
   "source": [
    "a+2"
   ]
  },
  {
   "cell_type": "code",
   "execution_count": 4,
   "id": "9d91ab91",
   "metadata": {},
   "outputs": [
    {
     "data": {
      "text/plain": [
       "array([2, 4, 6, 8])"
      ]
     },
     "execution_count": 4,
     "metadata": {},
     "output_type": "execute_result"
    }
   ],
   "source": [
    "a*2"
   ]
  },
  {
   "cell_type": "code",
   "execution_count": 5,
   "id": "9eba4ea4",
   "metadata": {},
   "outputs": [],
   "source": [
    "b=np.array([4,3,2,1])"
   ]
  },
  {
   "cell_type": "code",
   "execution_count": 6,
   "id": "32a3c933",
   "metadata": {},
   "outputs": [
    {
     "data": {
      "text/plain": [
       "array([5, 5, 5, 5])"
      ]
     },
     "execution_count": 6,
     "metadata": {},
     "output_type": "execute_result"
    }
   ],
   "source": [
    "a+b"
   ]
  },
  {
   "cell_type": "code",
   "execution_count": 7,
   "id": "b5aabc3b",
   "metadata": {},
   "outputs": [
    {
     "data": {
      "text/plain": [
       "array([4, 6, 6, 4])"
      ]
     },
     "execution_count": 7,
     "metadata": {},
     "output_type": "execute_result"
    }
   ],
   "source": [
    "a*b"
   ]
  },
  {
   "cell_type": "markdown",
   "id": "cd4b5c7d",
   "metadata": {},
   "source": [
    "### Linear Algebra"
   ]
  },
  {
   "cell_type": "code",
   "execution_count": 8,
   "id": "fb399376",
   "metadata": {},
   "outputs": [],
   "source": [
    "arr1=np.ones((2,3),dtype='int8')"
   ]
  },
  {
   "cell_type": "code",
   "execution_count": 9,
   "id": "dffdab93",
   "metadata": {},
   "outputs": [],
   "source": [
    "arr2=np.full((3,2),2)"
   ]
  },
  {
   "cell_type": "code",
   "execution_count": 10,
   "id": "fb0566eb",
   "metadata": {},
   "outputs": [],
   "source": [
    "arr3=np.matmul(arr1,arr2) # for multiplying 2 matrices use matmul method"
   ]
  },
  {
   "cell_type": "code",
   "execution_count": 11,
   "id": "f697bdfb",
   "metadata": {},
   "outputs": [
    {
     "data": {
      "text/plain": [
       "array([[6, 6],\n",
       "       [6, 6]])"
      ]
     },
     "execution_count": 11,
     "metadata": {},
     "output_type": "execute_result"
    }
   ],
   "source": [
    "arr3"
   ]
  },
  {
   "cell_type": "code",
   "execution_count": 12,
   "id": "8e1aa005",
   "metadata": {},
   "outputs": [],
   "source": [
    "arr4=np.identity(3)"
   ]
  },
  {
   "cell_type": "code",
   "execution_count": 13,
   "id": "07df9ab9",
   "metadata": {},
   "outputs": [
    {
     "data": {
      "text/plain": [
       "1.0"
      ]
     },
     "execution_count": 13,
     "metadata": {},
     "output_type": "execute_result"
    }
   ],
   "source": [
    "np.linalg.det(arr4) # to get determinant of a matrix just use linalg.det"
   ]
  },
  {
   "cell_type": "markdown",
   "id": "9494e223",
   "metadata": {},
   "source": [
    "### Statistics"
   ]
  },
  {
   "cell_type": "code",
   "execution_count": 23,
   "id": "3a95b4e5",
   "metadata": {},
   "outputs": [],
   "source": [
    "st1=np.array([[1,2,3],[1,5,1]])"
   ]
  },
  {
   "cell_type": "code",
   "execution_count": 24,
   "id": "2ce06921",
   "metadata": {},
   "outputs": [
    {
     "data": {
      "text/plain": [
       "1"
      ]
     },
     "execution_count": 24,
     "metadata": {},
     "output_type": "execute_result"
    }
   ],
   "source": [
    "st1.min()"
   ]
  },
  {
   "cell_type": "code",
   "execution_count": 25,
   "id": "af6fd10b",
   "metadata": {},
   "outputs": [
    {
     "data": {
      "text/plain": [
       "array([1, 1])"
      ]
     },
     "execution_count": 25,
     "metadata": {},
     "output_type": "execute_result"
    }
   ],
   "source": [
    "st1.min(axis=1)"
   ]
  },
  {
   "cell_type": "code",
   "execution_count": 26,
   "id": "4ddcf039",
   "metadata": {},
   "outputs": [
    {
     "data": {
      "text/plain": [
       "5"
      ]
     },
     "execution_count": 26,
     "metadata": {},
     "output_type": "execute_result"
    }
   ],
   "source": [
    "st1.max()"
   ]
  },
  {
   "cell_type": "code",
   "execution_count": 27,
   "id": "6d9ebde8",
   "metadata": {},
   "outputs": [
    {
     "data": {
      "text/plain": [
       "array([1, 5, 3])"
      ]
     },
     "execution_count": 27,
     "metadata": {},
     "output_type": "execute_result"
    }
   ],
   "source": [
    "st1.max(axis=0)"
   ]
  },
  {
   "cell_type": "code",
   "execution_count": 28,
   "id": "5fac9374",
   "metadata": {},
   "outputs": [
    {
     "data": {
      "text/plain": [
       "13"
      ]
     },
     "execution_count": 28,
     "metadata": {},
     "output_type": "execute_result"
    }
   ],
   "source": [
    "st1.sum()"
   ]
  },
  {
   "cell_type": "code",
   "execution_count": 29,
   "id": "4fe4ab09",
   "metadata": {},
   "outputs": [
    {
     "data": {
      "text/plain": [
       "2.1666666666666665"
      ]
     },
     "execution_count": 29,
     "metadata": {},
     "output_type": "execute_result"
    }
   ],
   "source": [
    "st1.mean()"
   ]
  },
  {
   "cell_type": "code",
   "execution_count": 30,
   "id": "0ad2273d",
   "metadata": {},
   "outputs": [
    {
     "data": {
      "text/plain": [
       "1.4624940645653537"
      ]
     },
     "execution_count": 30,
     "metadata": {},
     "output_type": "execute_result"
    }
   ],
   "source": [
    "st1.std() # computes standard deviation"
   ]
  },
  {
   "cell_type": "code",
   "execution_count": 31,
   "id": "8ddd0fc6",
   "metadata": {},
   "outputs": [
    {
     "data": {
      "text/plain": [
       "2.138888888888889"
      ]
     },
     "execution_count": 31,
     "metadata": {},
     "output_type": "execute_result"
    }
   ],
   "source": [
    "st1.var() # computes variance"
   ]
  },
  {
   "cell_type": "code",
   "execution_count": 33,
   "id": "14664170",
   "metadata": {},
   "outputs": [
    {
     "data": {
      "text/plain": [
       "1.5"
      ]
     },
     "execution_count": 33,
     "metadata": {},
     "output_type": "execute_result"
    }
   ],
   "source": [
    "np.median(st1)"
   ]
  }
 ],
 "metadata": {
  "kernelspec": {
   "display_name": "Python 3 (ipykernel)",
   "language": "python",
   "name": "python3"
  },
  "language_info": {
   "codemirror_mode": {
    "name": "ipython",
    "version": 3
   },
   "file_extension": ".py",
   "mimetype": "text/x-python",
   "name": "python",
   "nbconvert_exporter": "python",
   "pygments_lexer": "ipython3",
   "version": "3.11.6"
  }
 },
 "nbformat": 4,
 "nbformat_minor": 5
}
