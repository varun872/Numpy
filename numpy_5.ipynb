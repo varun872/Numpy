{
 "cells": [
  {
   "cell_type": "markdown",
   "id": "82e4afc4",
   "metadata": {},
   "source": [
    "## Accessing data from a text file"
   ]
  },
  {
   "cell_type": "code",
   "execution_count": 1,
   "id": "89fdda2d",
   "metadata": {},
   "outputs": [],
   "source": [
    "import numpy as np"
   ]
  },
  {
   "cell_type": "code",
   "execution_count": 2,
   "id": "f5d3cd67",
   "metadata": {},
   "outputs": [],
   "source": [
    "filedata=np.genfromtxt(\"data.txt\",delimiter=\",\") # by default this gives a floating point"
   ]
  },
  {
   "cell_type": "code",
   "execution_count": 3,
   "id": "823b7357",
   "metadata": {},
   "outputs": [],
   "source": [
    "filedata=filedata.astype(\"int32\") # using astype to typecast to int32"
   ]
  },
  {
   "cell_type": "code",
   "execution_count": 4,
   "id": "d8c3c224",
   "metadata": {},
   "outputs": [
    {
     "data": {
      "text/plain": [
       "array([[  1,   2,   3,   4,   5,   6,   7,   8,   9,  10,  11,  12,  13],\n",
       "       [ 10,  20,  30,  40,  50,  60,  70,  80,  90, 100, 110, 120, 130],\n",
       "       [  1,   2,   3,   4,   5,   6,   7,   8,   9,  10,  11,  12,  13],\n",
       "       [  2,   3,   5,   7,  11,  13,  17,  19,  23,  29,  31,  37,  41]],\n",
       "      dtype=int32)"
      ]
     },
     "execution_count": 4,
     "metadata": {},
     "output_type": "execute_result"
    }
   ],
   "source": [
    "filedata"
   ]
  },
  {
   "cell_type": "code",
   "execution_count": 5,
   "id": "ca5ddd2c",
   "metadata": {},
   "outputs": [
    {
     "data": {
      "text/plain": [
       "array([[False, False, False, False, False, False, False, False, False,\n",
       "        False, False, False, False],\n",
       "       [False,  True,  True,  True,  True,  True,  True,  True,  True,\n",
       "         True,  True,  True,  True],\n",
       "       [False, False, False, False, False, False, False, False, False,\n",
       "        False, False, False, False],\n",
       "       [False, False, False, False, False, False,  True,  True,  True,\n",
       "         True,  True,  True,  True]])"
      ]
     },
     "execution_count": 5,
     "metadata": {},
     "output_type": "execute_result"
    }
   ],
   "source": [
    "filedata>13"
   ]
  },
  {
   "cell_type": "code",
   "execution_count": 6,
   "id": "76868174",
   "metadata": {},
   "outputs": [
    {
     "data": {
      "text/plain": [
       "array([ 20,  30,  40,  50,  60,  70,  80,  90, 100, 110, 120, 130,  17,\n",
       "        19,  23,  29,  31,  37,  41], dtype=int32)"
      ]
     },
     "execution_count": 6,
     "metadata": {},
     "output_type": "execute_result"
    }
   ],
   "source": [
    "filedata[filedata>13]"
   ]
  },
  {
   "cell_type": "code",
   "execution_count": 7,
   "id": "7e75af94",
   "metadata": {},
   "outputs": [
    {
     "data": {
      "text/plain": [
       "array([False,  True,  True,  True,  True,  True,  True,  True,  True,\n",
       "        True,  True,  True,  True])"
      ]
     },
     "execution_count": 7,
     "metadata": {},
     "output_type": "execute_result"
    }
   ],
   "source": [
    "np.any(filedata>13,axis=0)"
   ]
  },
  {
   "cell_type": "code",
   "execution_count": 8,
   "id": "37c130ef",
   "metadata": {},
   "outputs": [
    {
     "data": {
      "text/plain": [
       "array([False, False, False, False, False, False, False, False, False,\n",
       "       False, False, False, False])"
      ]
     },
     "execution_count": 8,
     "metadata": {},
     "output_type": "execute_result"
    }
   ],
   "source": [
    "np.all(filedata>13,axis=0)"
   ]
  }
 ],
 "metadata": {
  "kernelspec": {
   "display_name": "Python 3 (ipykernel)",
   "language": "python",
   "name": "python3"
  },
  "language_info": {
   "codemirror_mode": {
    "name": "ipython",
    "version": 3
   },
   "file_extension": ".py",
   "mimetype": "text/x-python",
   "name": "python",
   "nbconvert_exporter": "python",
   "pygments_lexer": "ipython3",
   "version": "3.11.6"
  }
 },
 "nbformat": 4,
 "nbformat_minor": 5
}
